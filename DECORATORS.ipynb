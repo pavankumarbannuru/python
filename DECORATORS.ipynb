{
 "cells": [
  {
   "cell_type": "code",
   "execution_count": 4,
   "id": "5e7d9d29",
   "metadata": {
    "ExecuteTime": {
     "end_time": "2022-09-13T14:20:57.050080Z",
     "start_time": "2022-09-13T14:20:57.034525Z"
    }
   },
   "outputs": [],
   "source": [
    "def pavan_dec(func):\n",
    "    def adding_extra():\n",
    "        print(\"you have entered pavan_decorator\")\n",
    "        func()\n",
    "        print(\"you have executed the decorator function\")\n",
    "    return adding_extra"
   ]
  },
  {
   "cell_type": "code",
   "execution_count": 6,
   "id": "64164d2c",
   "metadata": {
    "ExecuteTime": {
     "end_time": "2022-09-13T14:21:06.337364Z",
     "start_time": "2022-09-13T14:21:06.318274Z"
    }
   },
   "outputs": [],
   "source": [
    "@pavan_dec\n",
    "def print_name():\n",
    "    print(\"im studying DECORATORS\")\n",
    "    "
   ]
  },
  {
   "cell_type": "code",
   "execution_count": 8,
   "id": "73f284d7",
   "metadata": {
    "ExecuteTime": {
     "end_time": "2022-09-13T14:21:31.826251Z",
     "start_time": "2022-09-13T14:21:31.820254Z"
    }
   },
   "outputs": [
    {
     "name": "stdout",
     "output_type": "stream",
     "text": [
      "you have entered pavan_decorator\n",
      "im studying DECORATORS\n",
      "you have executed the decorator function\n"
     ]
    }
   ],
   "source": [
    "print_name()"
   ]
  },
  {
   "cell_type": "code",
   "execution_count": 9,
   "id": "cc822261",
   "metadata": {
    "ExecuteTime": {
     "end_time": "2022-09-13T14:26:56.101625Z",
     "start_time": "2022-09-13T14:26:56.086627Z"
    }
   },
   "outputs": [],
   "source": [
    "def pavan_dec(func):\n",
    "    def adding_extra():\n",
    "        print(\"you have entered pavan_decorator\")\n",
    "        func()\n",
    "        print(\"you have executed the decorator function\")\n",
    "    return adding_extra"
   ]
  },
  {
   "cell_type": "code",
   "execution_count": 10,
   "id": "ec86714d",
   "metadata": {
    "ExecuteTime": {
     "end_time": "2022-09-13T14:26:56.881649Z",
     "start_time": "2022-09-13T14:26:56.866429Z"
    }
   },
   "outputs": [],
   "source": [
    "@pavan_dec\n",
    "def print_name(name):\n",
    "    print(f\"im studying {name}\")"
   ]
  },
  {
   "cell_type": "code",
   "execution_count": 12,
   "id": "f7772611",
   "metadata": {
    "ExecuteTime": {
     "end_time": "2022-09-13T14:27:26.707521Z",
     "start_time": "2022-09-13T14:27:26.684965Z"
    }
   },
   "outputs": [
    {
     "ename": "TypeError",
     "evalue": "adding_extra() takes 0 positional arguments but 1 was given",
     "output_type": "error",
     "traceback": [
      "\u001b[1;31m---------------------------------------------------------------------------\u001b[0m",
      "\u001b[1;31mTypeError\u001b[0m                                 Traceback (most recent call last)",
      "\u001b[1;32m~\\AppData\\Local\\Temp/ipykernel_24592/598006247.py\u001b[0m in \u001b[0;36m<module>\u001b[1;34m\u001b[0m\n\u001b[1;32m----> 1\u001b[1;33m \u001b[0mprint_name\u001b[0m\u001b[1;33m(\u001b[0m\u001b[1;34m'decorators'\u001b[0m\u001b[1;33m)\u001b[0m\u001b[1;33m\u001b[0m\u001b[1;33m\u001b[0m\u001b[0m\n\u001b[0m",
      "\u001b[1;31mTypeError\u001b[0m: adding_extra() takes 0 positional arguments but 1 was given"
     ]
    }
   ],
   "source": [
    "print_name('decorators')"
   ]
  },
  {
   "cell_type": "code",
   "execution_count": 14,
   "id": "24128dd7",
   "metadata": {
    "ExecuteTime": {
     "end_time": "2022-09-13T14:28:34.810298Z",
     "start_time": "2022-09-13T14:28:34.805299Z"
    }
   },
   "outputs": [],
   "source": [
    "def pavan_dec(func):\n",
    "    def adding_extra(*args,**kwargs):\n",
    "        print(\"you have entered pavan_decorator\")\n",
    "        func(*args,**kwargs)\n",
    "        print(\"you have executed the decorator function\")\n",
    "    return adding_extra"
   ]
  },
  {
   "cell_type": "code",
   "execution_count": 15,
   "id": "cf834dc5",
   "metadata": {
    "ExecuteTime": {
     "end_time": "2022-09-13T14:28:35.203049Z",
     "start_time": "2022-09-13T14:28:35.193533Z"
    }
   },
   "outputs": [],
   "source": [
    "@pavan_dec\n",
    "def print_name(name):\n",
    "    print(f\"im studying {name}\")"
   ]
  },
  {
   "cell_type": "code",
   "execution_count": 16,
   "id": "c4a1f424",
   "metadata": {
    "ExecuteTime": {
     "end_time": "2022-09-13T14:28:35.734662Z",
     "start_time": "2022-09-13T14:28:35.731662Z"
    }
   },
   "outputs": [
    {
     "name": "stdout",
     "output_type": "stream",
     "text": [
      "you have entered pavan_decorator\n",
      "im studying decorators\n",
      "you have executed the decorator function\n"
     ]
    }
   ],
   "source": [
    "print_name('decorators')"
   ]
  },
  {
   "cell_type": "code",
   "execution_count": 17,
   "id": "a41b0417",
   "metadata": {
    "ExecuteTime": {
     "end_time": "2022-09-13T14:32:12.062240Z",
     "start_time": "2022-09-13T14:32:12.054728Z"
    }
   },
   "outputs": [],
   "source": [
    "@pavan_dec\n",
    "def print_name(name):\n",
    "    print(f\"im studying {name}\")\n",
    "    return \"im done for now\""
   ]
  },
  {
   "cell_type": "code",
   "execution_count": 18,
   "id": "1d297eb7",
   "metadata": {
    "ExecuteTime": {
     "end_time": "2022-09-13T14:32:21.008592Z",
     "start_time": "2022-09-13T14:32:20.997350Z"
    }
   },
   "outputs": [
    {
     "name": "stdout",
     "output_type": "stream",
     "text": [
      "you have entered pavan_decorator\n",
      "im studying decorators\n",
      "you have executed the decorator function\n"
     ]
    }
   ],
   "source": [
    "print_name('decorators')   # not giving the return statement"
   ]
  },
  {
   "cell_type": "code",
   "execution_count": 19,
   "id": "d40e3ed2",
   "metadata": {
    "ExecuteTime": {
     "end_time": "2022-09-13T14:33:05.285719Z",
     "start_time": "2022-09-13T14:33:05.270566Z"
    }
   },
   "outputs": [],
   "source": [
    "def pavan_dec1(func):\n",
    "    def adding_extra(*args,**kwargs):\n",
    "        print(\"you have entered pavan_decorator\")\n",
    "        res = func(*args,**kwargs)\n",
    "        print(\"you have executed the decorator function\")\n",
    "        return res\n",
    "    return adding_extra"
   ]
  },
  {
   "cell_type": "code",
   "execution_count": 20,
   "id": "8ff8832e",
   "metadata": {
    "ExecuteTime": {
     "end_time": "2022-09-13T14:33:15.098802Z",
     "start_time": "2022-09-13T14:33:15.081804Z"
    }
   },
   "outputs": [],
   "source": [
    "@pavan_dec1\n",
    "def print_name(name):\n",
    "    print(f\"im studying {name}\")\n",
    "    return \"im done for now\""
   ]
  },
  {
   "cell_type": "code",
   "execution_count": 21,
   "id": "b3412f2e",
   "metadata": {
    "ExecuteTime": {
     "end_time": "2022-09-13T14:33:21.753649Z",
     "start_time": "2022-09-13T14:33:21.738537Z"
    }
   },
   "outputs": [
    {
     "name": "stdout",
     "output_type": "stream",
     "text": [
      "you have entered pavan_decorator\n",
      "im studying decorators\n",
      "you have executed the decorator function\n"
     ]
    },
    {
     "data": {
      "text/plain": [
       "'im done for now'"
      ]
     },
     "execution_count": 21,
     "metadata": {},
     "output_type": "execute_result"
    }
   ],
   "source": [
    "print_name('decorators')"
   ]
  },
  {
   "cell_type": "code",
   "execution_count": 23,
   "id": "172d79bc",
   "metadata": {
    "ExecuteTime": {
     "end_time": "2022-09-13T14:46:17.592263Z",
     "start_time": "2022-09-13T14:46:17.576264Z"
    }
   },
   "outputs": [],
   "source": [
    "import time\n",
    "\n",
    "def time_it(func):\n",
    "    def time_func(*args,**kwargs):\n",
    "        start = time.perf_counter()\n",
    "        res = func(*args,**kwargs)\n",
    "        total_time = time.perf_counter() - start\n",
    "        print(f\"time taken by '{func.__name__}' function : {total_time} \")\n",
    "        return res\n",
    "    return time_func"
   ]
  },
  {
   "cell_type": "code",
   "execution_count": 24,
   "id": "b94b0b45",
   "metadata": {
    "ExecuteTime": {
     "end_time": "2022-09-13T14:49:34.591622Z",
     "start_time": "2022-09-13T14:49:34.580625Z"
    }
   },
   "outputs": [],
   "source": [
    "@time_it\n",
    "def print_name(name):\n",
    "    print(f\"im studying {name}\")"
   ]
  },
  {
   "cell_type": "code",
   "execution_count": 25,
   "id": "9b60d19a",
   "metadata": {
    "ExecuteTime": {
     "end_time": "2022-09-13T14:49:46.269672Z",
     "start_time": "2022-09-13T14:49:46.256651Z"
    }
   },
   "outputs": [
    {
     "name": "stdout",
     "output_type": "stream",
     "text": [
      "im studying dec\n",
      "time taken by 'print_name' function : 4.009999997833802e-05 \n"
     ]
    }
   ],
   "source": [
    "print_name('dec')"
   ]
  },
  {
   "cell_type": "code",
   "execution_count": null,
   "id": "a6b735c6",
   "metadata": {},
   "outputs": [],
   "source": []
  }
 ],
 "metadata": {
  "kernelspec": {
   "display_name": "Python 3 (ipykernel)",
   "language": "python",
   "name": "python3"
  },
  "language_info": {
   "codemirror_mode": {
    "name": "ipython",
    "version": 3
   },
   "file_extension": ".py",
   "mimetype": "text/x-python",
   "name": "python",
   "nbconvert_exporter": "python",
   "pygments_lexer": "ipython3",
   "version": "3.9.7"
  }
 },
 "nbformat": 4,
 "nbformat_minor": 5
}
