{
 "cells": [
  {
   "cell_type": "markdown",
   "id": "ebd29c4f",
   "metadata": {},
   "source": [
    "# RECCURSION"
   ]
  },
  {
   "cell_type": "code",
   "execution_count": 1,
   "id": "8965329d",
   "metadata": {
    "ExecuteTime": {
     "end_time": "2022-07-16T15:00:14.431631Z",
     "start_time": "2022-07-16T15:00:14.410113Z"
    }
   },
   "outputs": [],
   "source": [
    "def fun(n):\n",
    "    if n==1 or n==0:\n",
    "        return 1\n",
    "    else:\n",
    "        return fun(n-1)+fun(n-2)"
   ]
  },
  {
   "cell_type": "code",
   "execution_count": 2,
   "id": "f1de2d2b",
   "metadata": {
    "ExecuteTime": {
     "end_time": "2022-07-16T15:00:28.266371Z",
     "start_time": "2022-07-16T15:00:28.258373Z"
    }
   },
   "outputs": [
    {
     "data": {
      "text/plain": [
       "5"
      ]
     },
     "execution_count": 2,
     "metadata": {},
     "output_type": "execute_result"
    }
   ],
   "source": [
    "fun(4)"
   ]
  },
  {
   "cell_type": "code",
   "execution_count": 3,
   "id": "169bb4cd",
   "metadata": {
    "ExecuteTime": {
     "end_time": "2022-07-16T15:01:48.631877Z",
     "start_time": "2022-07-16T15:01:48.615878Z"
    }
   },
   "outputs": [],
   "source": [
    "def fibonacci(n):\n",
    "    if n==1:\n",
    "        return 0\n",
    "    elif n==2:\n",
    "        return 1\n",
    "    return fibonacci(n-1)+fibonacci(n-2)"
   ]
  },
  {
   "cell_type": "code",
   "execution_count": 4,
   "id": "6abf56bd",
   "metadata": {
    "ExecuteTime": {
     "end_time": "2022-07-16T15:01:55.808609Z",
     "start_time": "2022-07-16T15:01:55.790610Z"
    }
   },
   "outputs": [
    {
     "data": {
      "text/plain": [
       "3"
      ]
     },
     "execution_count": 4,
     "metadata": {},
     "output_type": "execute_result"
    }
   ],
   "source": [
    "fibonacci(5)"
   ]
  },
  {
   "cell_type": "code",
   "execution_count": 7,
   "id": "8343c911",
   "metadata": {
    "ExecuteTime": {
     "end_time": "2022-07-16T15:07:13.067667Z",
     "start_time": "2022-07-16T15:07:13.062666Z"
    }
   },
   "outputs": [],
   "source": [
    "# print numbers from 1 to n\n",
    "def printnumbers(n):\n",
    "    if n == 1:\n",
    "        print (1)\n",
    "        return \n",
    "    printnumbers(n-1)\n",
    "    print(n)"
   ]
  },
  {
   "cell_type": "code",
   "execution_count": 8,
   "id": "ac6359f1",
   "metadata": {
    "ExecuteTime": {
     "end_time": "2022-07-16T15:07:13.710601Z",
     "start_time": "2022-07-16T15:07:13.699599Z"
    }
   },
   "outputs": [
    {
     "name": "stdout",
     "output_type": "stream",
     "text": [
      "1\n",
      "2\n",
      "3\n",
      "4\n",
      "5\n"
     ]
    }
   ],
   "source": [
    "printnumbers(5)"
   ]
  },
  {
   "cell_type": "code",
   "execution_count": 11,
   "id": "ac908f2f",
   "metadata": {
    "ExecuteTime": {
     "end_time": "2022-07-16T15:12:17.112721Z",
     "start_time": "2022-07-16T15:12:17.096722Z"
    }
   },
   "outputs": [
    {
     "name": "stdout",
     "output_type": "stream",
     "text": [
      "120\n"
     ]
    }
   ],
   "source": [
    "# factorial:\n",
    "f=1\n",
    "for i in range(1,6):\n",
    "    f=f*i\n",
    "print(f)"
   ]
  },
  {
   "cell_type": "code",
   "execution_count": 14,
   "id": "4bad0788",
   "metadata": {
    "ExecuteTime": {
     "end_time": "2022-07-16T15:19:10.501433Z",
     "start_time": "2022-07-16T15:19:10.488830Z"
    }
   },
   "outputs": [],
   "source": [
    "# recursive approach\n",
    "def fact(n):\n",
    "    if n==1:\n",
    "        return 1\n",
    "    else:\n",
    "        return n*fact(n-1)"
   ]
  },
  {
   "cell_type": "code",
   "execution_count": 13,
   "id": "644d6ada",
   "metadata": {
    "ExecuteTime": {
     "end_time": "2022-07-16T15:18:49.086158Z",
     "start_time": "2022-07-16T15:18:49.074158Z"
    }
   },
   "outputs": [
    {
     "data": {
      "text/plain": [
       "120"
      ]
     },
     "execution_count": 13,
     "metadata": {},
     "output_type": "execute_result"
    }
   ],
   "source": [
    "fact(5)"
   ]
  },
  {
   "cell_type": "code",
   "execution_count": 1,
   "id": "1b3ee297",
   "metadata": {
    "ExecuteTime": {
     "end_time": "2022-07-16T15:59:25.627542Z",
     "start_time": "2022-07-16T15:59:25.616777Z"
    }
   },
   "outputs": [],
   "source": [
    "arr1 =[]\n",
    "def revarr(arr0):\n",
    "    if len(arr0) == 1:\n",
    "        arr1.append(arr0[0])\n",
    "    revarr(arr0[1:])\n",
    "    arr1.append(arr0[0])\n",
    "    "
   ]
  },
  {
   "cell_type": "code",
   "execution_count": null,
   "id": "2fb66498",
   "metadata": {
    "ExecuteTime": {
     "start_time": "2022-07-16T15:59:17.593Z"
    }
   },
   "outputs": [],
   "source": [
    "arr = [1,2,3,4]\n",
    "revarr(arr)"
   ]
  },
  {
   "cell_type": "code",
   "execution_count": 11,
   "id": "587b62b6",
   "metadata": {
    "ExecuteTime": {
     "end_time": "2022-07-16T16:48:27.432352Z",
     "start_time": "2022-07-16T16:48:27.423354Z"
    }
   },
   "outputs": [],
   "source": [
    "op_array = []            #### this is taking extra aplace\n",
    "def revarray(ip_array):\n",
    "    if len(ip_array)==1:\n",
    "        op_array.append(ip_array[0])\n",
    "        return\n",
    "    revarray(ip_array[1:])\n",
    "    op_array.append(ip_array[0])"
   ]
  },
  {
   "cell_type": "code",
   "execution_count": 12,
   "id": "8a1f4b9e",
   "metadata": {
    "ExecuteTime": {
     "end_time": "2022-07-16T16:48:27.870654Z",
     "start_time": "2022-07-16T16:48:27.857100Z"
    }
   },
   "outputs": [
    {
     "name": "stdout",
     "output_type": "stream",
     "text": [
      "[3, 2, 1]\n"
     ]
    }
   ],
   "source": [
    "ip_array =[1,2,3]\n",
    "revarray(ip_array)\n",
    "print(op_array)"
   ]
  },
  {
   "cell_type": "code",
   "execution_count": 4,
   "id": "40c256a6",
   "metadata": {
    "ExecuteTime": {
     "end_time": "2022-07-16T16:40:55.279456Z",
     "start_time": "2022-07-16T16:40:55.253458Z"
    }
   },
   "outputs": [
    {
     "data": {
      "text/plain": [
       "[2, 3]"
      ]
     },
     "execution_count": 4,
     "metadata": {},
     "output_type": "execute_result"
    }
   ],
   "source": [
    "ip_array[1:]"
   ]
  },
  {
   "cell_type": "code",
   "execution_count": 1,
   "id": "bc17fc9c",
   "metadata": {
    "ExecuteTime": {
     "end_time": "2022-07-24T09:32:52.890914Z",
     "start_time": "2022-07-24T09:32:52.876947Z"
    }
   },
   "outputs": [],
   "source": [
    "def revarr(ip_array):\n",
    "    if len(ip_array)==1:\n",
    "        return\n",
    "    alpha = ip_array.pop(0)\n",
    "    revarr(ip_array)\n",
    "    ip_array.append(alpha)"
   ]
  },
  {
   "cell_type": "code",
   "execution_count": 2,
   "id": "fee0b833",
   "metadata": {
    "ExecuteTime": {
     "end_time": "2022-07-24T09:33:21.503784Z",
     "start_time": "2022-07-24T09:33:21.488758Z"
    }
   },
   "outputs": [
    {
     "name": "stdout",
     "output_type": "stream",
     "text": [
      "[3, 2, 1]\n"
     ]
    }
   ],
   "source": [
    "ip_array = [1,2,3]\n",
    "revarr(ip_array)\n",
    "print(ip_array)"
   ]
  },
  {
   "cell_type": "code",
   "execution_count": 21,
   "id": "7f47b565",
   "metadata": {
    "ExecuteTime": {
     "end_time": "2022-07-24T10:36:30.909430Z",
     "start_time": "2022-07-24T10:36:30.891911Z"
    }
   },
   "outputs": [],
   "source": [
    "o_p = []\n",
    "def revstack(i_arr):\n",
    "    if len(i_arr) == 1:\n",
    "        o_p.append(i_arr[0])\n",
    "        return\n",
    "    alpha=i_arr.pop(-1)\n",
    "    o_p.append(alpha)\n",
    "    revstack(i_arr)"
   ]
  },
  {
   "cell_type": "code",
   "execution_count": 22,
   "id": "e2566b3b",
   "metadata": {
    "ExecuteTime": {
     "end_time": "2022-07-24T10:36:31.349977Z",
     "start_time": "2022-07-24T10:36:31.339979Z"
    }
   },
   "outputs": [
    {
     "name": "stdout",
     "output_type": "stream",
     "text": [
      "[3, 2, 1]\n"
     ]
    }
   ],
   "source": [
    "arr=[1,2,3]\n",
    "revstack(arr)\n",
    "print(o_p)"
   ]
  },
  {
   "cell_type": "code",
   "execution_count": null,
   "id": "b9df2976",
   "metadata": {},
   "outputs": [],
   "source": []
  }
 ],
 "metadata": {
  "kernelspec": {
   "display_name": "Python 3 (ipykernel)",
   "language": "python",
   "name": "python3"
  },
  "language_info": {
   "codemirror_mode": {
    "name": "ipython",
    "version": 3
   },
   "file_extension": ".py",
   "mimetype": "text/x-python",
   "name": "python",
   "nbconvert_exporter": "python",
   "pygments_lexer": "ipython3",
   "version": "3.9.7"
  }
 },
 "nbformat": 4,
 "nbformat_minor": 5
}
