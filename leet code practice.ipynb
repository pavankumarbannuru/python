{
 "cells": [
  {
   "cell_type": "code",
   "execution_count": null,
   "id": "c29ae2d3",
   "metadata": {},
   "outputs": [],
   "source": [
    "class solution:\n",
    "    def threesum(self,nums:list[int]):\n",
    "        res = []\n",
    "        nums.sort()\n",
    "        \n",
    "        length = len(nums)\n",
    "        \n",
    "        for i in range(length-2):\n",
    "            \n",
    "            if i >0 and nums[i] == nums[i-1]:\n",
    "                continue\n",
    "            l = i+1\n",
    "            r = length -1\n",
    "            \n",
    "            while l<r:\n",
    "                total = nums[i]+nums[l]+nums[r]\n",
    "                if total <0:\n",
    "                    l=l+1\n",
    "                elif total>0:\n",
    "                    r = r-1\n",
    "                \n",
    "                else:\n",
    "                    res.append([nums[i],nums[l],nums[r]])\n",
    "                    while l<r and nums [l] == nums[l+1]:\n",
    "                        l =l+1\n",
    "                    "
   ]
  },
  {
   "cell_type": "code",
   "execution_count": 1,
   "id": "0a41976e",
   "metadata": {
    "ExecuteTime": {
     "end_time": "2022-08-05T06:06:12.514381Z",
     "start_time": "2022-08-05T06:06:12.506383Z"
    }
   },
   "outputs": [],
   "source": [
    "nums = [0,-1,1,-1,2,4]"
   ]
  },
  {
   "cell_type": "code",
   "execution_count": 2,
   "id": "67f680ac",
   "metadata": {
    "ExecuteTime": {
     "end_time": "2022-08-05T06:06:19.072081Z",
     "start_time": "2022-08-05T06:06:19.061082Z"
    }
   },
   "outputs": [],
   "source": [
    "nums.sort()"
   ]
  },
  {
   "cell_type": "code",
   "execution_count": 3,
   "id": "66d6c0c4",
   "metadata": {
    "ExecuteTime": {
     "end_time": "2022-08-05T06:06:25.170279Z",
     "start_time": "2022-08-05T06:06:25.156759Z"
    }
   },
   "outputs": [
    {
     "data": {
      "text/plain": [
       "[-1, -1, 0, 1, 2, 4]"
      ]
     },
     "execution_count": 3,
     "metadata": {},
     "output_type": "execute_result"
    }
   ],
   "source": [
    "nums"
   ]
  },
  {
   "cell_type": "code",
   "execution_count": 7,
   "id": "8644073f",
   "metadata": {
    "ExecuteTime": {
     "end_time": "2022-08-05T06:09:45.768019Z",
     "start_time": "2022-08-05T06:09:45.762019Z"
    }
   },
   "outputs": [
    {
     "name": "stdout",
     "output_type": "stream",
     "text": [
      "0 : -1\n",
      "1 : -1\n",
      "2 : 0\n",
      "3 : 1\n"
     ]
    }
   ],
   "source": [
    "for i in range(len(nums)-2):\n",
    "    print(i,\":\",nums[i])"
   ]
  },
  {
   "cell_type": "code",
   "execution_count": null,
   "id": "4ce88637",
   "metadata": {},
   "outputs": [],
   "source": []
  }
 ],
 "metadata": {
  "kernelspec": {
   "display_name": "Python 3 (ipykernel)",
   "language": "python",
   "name": "python3"
  },
  "language_info": {
   "codemirror_mode": {
    "name": "ipython",
    "version": 3
   },
   "file_extension": ".py",
   "mimetype": "text/x-python",
   "name": "python",
   "nbconvert_exporter": "python",
   "pygments_lexer": "ipython3",
   "version": "3.9.7"
  }
 },
 "nbformat": 4,
 "nbformat_minor": 5
}
