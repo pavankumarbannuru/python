{
 "cells": [
  {
   "cell_type": "code",
   "execution_count": 1,
   "id": "071061fe",
   "metadata": {
    "ExecuteTime": {
     "end_time": "2022-05-01T10:35:58.603499Z",
     "start_time": "2022-05-01T10:35:58.572071Z"
    }
   },
   "outputs": [],
   "source": [
    "import logging\n"
   ]
  },
  {
   "cell_type": "code",
   "execution_count": 4,
   "id": "3638064e",
   "metadata": {
    "ExecuteTime": {
     "end_time": "2022-05-01T10:37:11.690804Z",
     "start_time": "2022-05-01T10:37:11.666764Z"
    }
   },
   "outputs": [],
   "source": [
    "logging.root.handlers.clear()"
   ]
  },
  {
   "cell_type": "code",
   "execution_count": 5,
   "id": "77664dcf",
   "metadata": {
    "ExecuteTime": {
     "end_time": "2022-05-01T10:37:13.188753Z",
     "start_time": "2022-05-01T10:37:13.173181Z"
    }
   },
   "outputs": [],
   "source": [
    "logging.basicConfig(filename='example.log', encoding='utf-8',level=logging.DEBUG,format='%(asctime)s %(message)s')"
   ]
  },
  {
   "cell_type": "code",
   "execution_count": 6,
   "id": "c061b4e5",
   "metadata": {
    "ExecuteTime": {
     "end_time": "2022-05-01T10:37:13.796502Z",
     "start_time": "2022-05-01T10:37:13.780991Z"
    }
   },
   "outputs": [],
   "source": [
    "logging.debug('This message should go to the log file')\n",
    "logging.info('So should this')\n",
    "logging.warning('And this, too')\n",
    "logging.error('And non-ASCII stuff, too, like Øresund and Malmö')"
   ]
  },
  {
   "cell_type": "code",
   "execution_count": null,
   "id": "225b9f66",
   "metadata": {},
   "outputs": [],
   "source": []
  }
 ],
 "metadata": {
  "kernelspec": {
   "display_name": "Python 3 (ipykernel)",
   "language": "python",
   "name": "python3"
  },
  "language_info": {
   "codemirror_mode": {
    "name": "ipython",
    "version": 3
   },
   "file_extension": ".py",
   "mimetype": "text/x-python",
   "name": "python",
   "nbconvert_exporter": "python",
   "pygments_lexer": "ipython3",
   "version": "3.9.7"
  }
 },
 "nbformat": 4,
 "nbformat_minor": 5
}
