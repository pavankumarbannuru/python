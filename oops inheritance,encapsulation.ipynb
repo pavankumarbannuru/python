{
 "cells": [
  {
   "cell_type": "code",
   "execution_count": 5,
   "id": "4eb220bb",
   "metadata": {
    "ExecuteTime": {
     "end_time": "2022-01-29T05:08:55.032695Z",
     "start_time": "2022-01-29T05:08:55.023302Z"
    }
   },
   "outputs": [],
   "source": [
    "class xyz:\n",
    "    def __init__(self,a,b,c):\n",
    "        self.a = a\n",
    "        self.b = b\n",
    "        self.c = c\n",
    "    def test (self):\n",
    "        print ('this my test')\n",
    "    def test1 (self):\n",
    "        print ('this is my test1')"
   ]
  },
  {
   "cell_type": "code",
   "execution_count": 6,
   "id": "173850a9",
   "metadata": {
    "ExecuteTime": {
     "end_time": "2022-01-29T05:08:56.697533Z",
     "start_time": "2022-01-29T05:08:56.679543Z"
    }
   },
   "outputs": [],
   "source": [
    "class xyz1(xyz):\n",
    "    pass"
   ]
  },
  {
   "cell_type": "code",
   "execution_count": 7,
   "id": "19144da8",
   "metadata": {
    "ExecuteTime": {
     "end_time": "2022-01-29T05:08:57.087972Z",
     "start_time": "2022-01-29T05:08:57.070942Z"
    }
   },
   "outputs": [],
   "source": [
    "q = xyz1(1,2,3)"
   ]
  },
  {
   "cell_type": "code",
   "execution_count": 8,
   "id": "f00d6c7b",
   "metadata": {
    "ExecuteTime": {
     "end_time": "2022-01-29T05:08:58.437549Z",
     "start_time": "2022-01-29T05:08:58.433568Z"
    }
   },
   "outputs": [
    {
     "name": "stdout",
     "output_type": "stream",
     "text": [
      "this my test\n"
     ]
    }
   ],
   "source": [
    "q.test()"
   ]
  },
  {
   "cell_type": "code",
   "execution_count": 9,
   "id": "b747280f",
   "metadata": {
    "ExecuteTime": {
     "end_time": "2022-01-29T05:09:29.924596Z",
     "start_time": "2022-01-29T05:09:29.906631Z"
    }
   },
   "outputs": [],
   "source": [
    "class xyz1(xyz):\n",
    "    def test(self):\n",
    "        print ('this my new test')"
   ]
  },
  {
   "cell_type": "code",
   "execution_count": 10,
   "id": "71bd03cb",
   "metadata": {
    "ExecuteTime": {
     "end_time": "2022-01-29T05:09:43.753160Z",
     "start_time": "2022-01-29T05:09:43.740641Z"
    }
   },
   "outputs": [],
   "source": [
    "g = xyz1(4,5,6)"
   ]
  },
  {
   "cell_type": "code",
   "execution_count": 11,
   "id": "1a64fa08",
   "metadata": {
    "ExecuteTime": {
     "end_time": "2022-01-29T05:09:50.950435Z",
     "start_time": "2022-01-29T05:09:50.936472Z"
    },
    "scrolled": true
   },
   "outputs": [
    {
     "name": "stdout",
     "output_type": "stream",
     "text": [
      "this my new test\n"
     ]
    }
   ],
   "source": [
    "g.test()"
   ]
  },
  {
   "cell_type": "markdown",
   "id": "43ca9fb2",
   "metadata": {},
   "source": [
    "# child class inheritence"
   ]
  },
  {
   "cell_type": "code",
   "execution_count": 27,
   "id": "a2fc61c6",
   "metadata": {
    "ExecuteTime": {
     "end_time": "2022-01-29T05:30:17.744848Z",
     "start_time": "2022-01-29T05:30:17.735320Z"
    }
   },
   "outputs": [],
   "source": [
    "class xyz:\n",
    "    def __init__(self,a,b,c):\n",
    "        self.a = a\n",
    "        self.b = b\n",
    "        self.c = c\n",
    "    def test (self):\n",
    "        print ('this is xyz class')\n",
    "\n",
    "class xyz1:\n",
    "    def __init__ (self,p,q,v):\n",
    "        self.p = p\n",
    "        self.q = q\n",
    "        self.v = v\n",
    "    def test1(self):\n",
    "        print('this is xyz1 class')\n",
    "class child(xyz1,xyz):\n",
    "    def __init__ (self,*args,**kwargs1):\n",
    "        xyz.__init__(self,*args)\n",
    "        xyz1.__init__(self,**kwargs1)\n"
   ]
  },
  {
   "cell_type": "code",
   "execution_count": 30,
   "id": "4a141778",
   "metadata": {
    "ExecuteTime": {
     "end_time": "2022-01-29T05:31:04.004408Z",
     "start_time": "2022-01-29T05:31:03.990444Z"
    }
   },
   "outputs": [],
   "source": [
    "asd = child(1,2,3,p=4,q=5,v=6)"
   ]
  },
  {
   "cell_type": "code",
   "execution_count": 32,
   "id": "973dd98b",
   "metadata": {
    "ExecuteTime": {
     "end_time": "2022-01-29T05:31:11.202135Z",
     "start_time": "2022-01-29T05:31:11.185869Z"
    }
   },
   "outputs": [
    {
     "data": {
      "text/plain": [
       "4"
      ]
     },
     "execution_count": 32,
     "metadata": {},
     "output_type": "execute_result"
    }
   ],
   "source": [
    "asd.p"
   ]
  },
  {
   "cell_type": "code",
   "execution_count": 33,
   "id": "490aef33",
   "metadata": {
    "ExecuteTime": {
     "end_time": "2022-01-29T05:33:12.834515Z",
     "start_time": "2022-01-29T05:33:12.824489Z"
    },
    "scrolled": true
   },
   "outputs": [
    {
     "name": "stdout",
     "output_type": "stream",
     "text": [
      "this is xyz1 class\n"
     ]
    }
   ],
   "source": [
    "asd.test1()"
   ]
  },
  {
   "cell_type": "markdown",
   "id": "588f056a",
   "metadata": {},
   "source": [
    "# Multilevel inheritence"
   ]
  },
  {
   "cell_type": "code",
   "execution_count": 36,
   "id": "8bfea5ce",
   "metadata": {
    "ExecuteTime": {
     "end_time": "2022-01-29T05:41:54.607035Z",
     "start_time": "2022-01-29T05:41:54.596457Z"
    }
   },
   "outputs": [],
   "source": [
    "class xyz:\n",
    "    def __init__(self,a,b,c):\n",
    "        self.a = a\n",
    "        self.b = b\n",
    "        self.c = c\n",
    "    def test (self):\n",
    "        print ('this is xyz class')\n",
    "\n",
    "class xyz1(xyz):\n",
    "    \n",
    "    def test1(self):\n",
    "        print('this is xyz1 class')\n",
    "        \n",
    "        \n",
    "class xyz2(xyz1):\n",
    "    def test2(self):\n",
    "        print('this belongs to xyz2')\n",
    "\n",
    "class xyz3(xyz2):\n",
    "    def test3(self):\n",
    "        print('this belongs to xyz3')"
   ]
  },
  {
   "cell_type": "code",
   "execution_count": 38,
   "id": "6f306399",
   "metadata": {
    "ExecuteTime": {
     "end_time": "2022-01-29T05:42:20.106929Z",
     "start_time": "2022-01-29T05:42:20.103909Z"
    }
   },
   "outputs": [],
   "source": [
    "v = xyz3(4,5,6)"
   ]
  },
  {
   "cell_type": "markdown",
   "id": "c5d992aa",
   "metadata": {},
   "source": [
    "# public,private,protected"
   ]
  },
  {
   "cell_type": "code",
   "execution_count": 45,
   "id": "f4451bc2",
   "metadata": {
    "ExecuteTime": {
     "end_time": "2022-01-29T06:16:07.192964Z",
     "start_time": "2022-01-29T06:16:07.180389Z"
    }
   },
   "outputs": [],
   "source": [
    "class test:\n",
    "    def __init__(self,a,b,c):\n",
    "        self.a =a\n",
    "        self.b =b\n",
    "        self.c =c\n",
    "class test1(test):\n",
    "    pass\n",
    "u =test(4,5,6)"
   ]
  },
  {
   "cell_type": "code",
   "execution_count": 46,
   "id": "dd107313",
   "metadata": {
    "ExecuteTime": {
     "end_time": "2022-01-29T06:16:28.629861Z",
     "start_time": "2022-01-29T06:16:28.615900Z"
    }
   },
   "outputs": [],
   "source": [
    "v = test1(3,4,5)"
   ]
  },
  {
   "cell_type": "code",
   "execution_count": 47,
   "id": "8cbf8508",
   "metadata": {
    "ExecuteTime": {
     "end_time": "2022-01-29T06:22:37.503718Z",
     "start_time": "2022-01-29T06:22:37.496215Z"
    }
   },
   "outputs": [],
   "source": [
    "class test:\n",
    "    def __init__(self):\n",
    "        self.a =4\n",
    "        \n",
    "class test1(test):\n",
    "    pass\n",
    "u =test()"
   ]
  },
  {
   "cell_type": "code",
   "execution_count": 48,
   "id": "61c69bd3",
   "metadata": {
    "ExecuteTime": {
     "end_time": "2022-01-29T06:22:46.879942Z",
     "start_time": "2022-01-29T06:22:46.876950Z"
    }
   },
   "outputs": [],
   "source": [
    "v =test1()"
   ]
  },
  {
   "cell_type": "code",
   "execution_count": 49,
   "id": "de692212",
   "metadata": {
    "ExecuteTime": {
     "end_time": "2022-01-29T06:22:49.514405Z",
     "start_time": "2022-01-29T06:22:49.497450Z"
    }
   },
   "outputs": [
    {
     "data": {
      "text/plain": [
       "4"
      ]
     },
     "execution_count": 49,
     "metadata": {},
     "output_type": "execute_result"
    }
   ],
   "source": [
    "v.a"
   ]
  },
  {
   "cell_type": "code",
   "execution_count": 57,
   "id": "af9d57e3",
   "metadata": {
    "ExecuteTime": {
     "end_time": "2022-01-29T06:26:52.273069Z",
     "start_time": "2022-01-29T06:26:52.255977Z"
    }
   },
   "outputs": [],
   "source": [
    "class test:\n",
    "    def __init__(self):\n",
    "        self.a =4\n",
    "        \n",
    "class test1(test):\n",
    "    def __init__(self):\n",
    "        test.__init__(self)\n",
    "        self.a = 7\n",
    "     \n",
    "u =test()"
   ]
  },
  {
   "cell_type": "code",
   "execution_count": 58,
   "id": "49243f83",
   "metadata": {
    "ExecuteTime": {
     "end_time": "2022-01-29T06:26:58.837853Z",
     "start_time": "2022-01-29T06:26:58.830368Z"
    }
   },
   "outputs": [
    {
     "data": {
      "text/plain": [
       "4"
      ]
     },
     "execution_count": 58,
     "metadata": {},
     "output_type": "execute_result"
    }
   ],
   "source": [
    "u.a"
   ]
  },
  {
   "cell_type": "code",
   "execution_count": 54,
   "id": "d4d1cec5",
   "metadata": {
    "ExecuteTime": {
     "end_time": "2022-01-29T06:24:39.201389Z",
     "start_time": "2022-01-29T06:24:39.190395Z"
    }
   },
   "outputs": [],
   "source": [
    "v = test1()"
   ]
  },
  {
   "cell_type": "code",
   "execution_count": 59,
   "id": "4a662f7a",
   "metadata": {
    "ExecuteTime": {
     "end_time": "2022-01-29T06:27:22.100122Z",
     "start_time": "2022-01-29T06:27:22.084899Z"
    }
   },
   "outputs": [
    {
     "data": {
      "text/plain": [
       "7"
      ]
     },
     "execution_count": 59,
     "metadata": {},
     "output_type": "execute_result"
    }
   ],
   "source": [
    "v.a"
   ]
  },
  {
   "cell_type": "markdown",
   "id": "99660fc5",
   "metadata": {},
   "source": [
    "# protected "
   ]
  },
  {
   "cell_type": "code",
   "execution_count": 60,
   "id": "0dc5bc2a",
   "metadata": {
    "ExecuteTime": {
     "end_time": "2022-01-29T06:30:18.084825Z",
     "start_time": "2022-01-29T06:30:18.066847Z"
    }
   },
   "outputs": [],
   "source": [
    "class test:\n",
    "    def __init__(self):\n",
    "        self._a =4\n",
    "        \n",
    "class test1(test):\n",
    "    def __init__(self):\n",
    "        \n",
    "        self._a = 7\n",
    "u = test()    "
   ]
  },
  {
   "cell_type": "code",
   "execution_count": 61,
   "id": "88afb42a",
   "metadata": {
    "ExecuteTime": {
     "end_time": "2022-01-29T06:30:27.838799Z",
     "start_time": "2022-01-29T06:30:27.825314Z"
    }
   },
   "outputs": [
    {
     "data": {
      "text/plain": [
       "4"
      ]
     },
     "execution_count": 61,
     "metadata": {},
     "output_type": "execute_result"
    }
   ],
   "source": [
    "u._a"
   ]
  },
  {
   "cell_type": "code",
   "execution_count": 63,
   "id": "d4d2e963",
   "metadata": {
    "ExecuteTime": {
     "end_time": "2022-01-29T06:31:45.422755Z",
     "start_time": "2022-01-29T06:31:45.411817Z"
    }
   },
   "outputs": [],
   "source": [
    "class test:\n",
    "    def __init__(self):\n",
    "        self.__a =4\n",
    "        \n",
    "class test1(test):\n",
    "    def __init__(self):\n",
    "        \n",
    "        self.__a = 7\n",
    "u = test()"
   ]
  },
  {
   "cell_type": "code",
   "execution_count": 64,
   "id": "8282efc4",
   "metadata": {
    "ExecuteTime": {
     "end_time": "2022-01-29T06:31:53.739024Z",
     "start_time": "2022-01-29T06:31:53.727539Z"
    }
   },
   "outputs": [
    {
     "ename": "AttributeError",
     "evalue": "'test' object has no attribute '__a'",
     "output_type": "error",
     "traceback": [
      "\u001b[1;31m---------------------------------------------------------------------------\u001b[0m",
      "\u001b[1;31mAttributeError\u001b[0m                            Traceback (most recent call last)",
      "\u001b[1;32m~\\AppData\\Local\\Temp/ipykernel_16076/3701111835.py\u001b[0m in \u001b[0;36m<module>\u001b[1;34m\u001b[0m\n\u001b[1;32m----> 1\u001b[1;33m \u001b[0mu\u001b[0m\u001b[1;33m.\u001b[0m\u001b[0m__a\u001b[0m\u001b[1;33m\u001b[0m\u001b[1;33m\u001b[0m\u001b[0m\n\u001b[0m",
      "\u001b[1;31mAttributeError\u001b[0m: 'test' object has no attribute '__a'"
     ]
    }
   ],
   "source": [
    "u.__a"
   ]
  },
  {
   "cell_type": "code",
   "execution_count": 89,
   "id": "aeb2be48",
   "metadata": {
    "ExecuteTime": {
     "end_time": "2022-01-29T07:15:59.880518Z",
     "start_time": "2022-01-29T07:15:59.871543Z"
    }
   },
   "outputs": [],
   "source": [
    "class test:\n",
    "    def __init__(self,a,b,c):\n",
    "        self._a =a     #protected person need to know varoable to acces\n",
    "        self.__b =b    #private person need class name to acces\n",
    "        self.c =c      #public\n",
    "class test1(test):\n",
    "    pass\n",
    "v =test(4,5,6)"
   ]
  },
  {
   "cell_type": "code",
   "execution_count": 73,
   "id": "645d935f",
   "metadata": {
    "ExecuteTime": {
     "end_time": "2022-01-29T06:43:30.192290Z",
     "start_time": "2022-01-29T06:43:30.177635Z"
    }
   },
   "outputs": [
    {
     "data": {
      "text/plain": [
       "4"
      ]
     },
     "execution_count": 73,
     "metadata": {},
     "output_type": "execute_result"
    }
   ],
   "source": [
    "u._a"
   ]
  },
  {
   "cell_type": "code",
   "execution_count": 74,
   "id": "cf402dec",
   "metadata": {
    "ExecuteTime": {
     "end_time": "2022-01-29T06:43:31.047653Z",
     "start_time": "2022-01-29T06:43:31.033655Z"
    }
   },
   "outputs": [],
   "source": [
    "u = test1(6,7,8)"
   ]
  },
  {
   "cell_type": "code",
   "execution_count": 75,
   "id": "1d1a2db6",
   "metadata": {
    "ExecuteTime": {
     "end_time": "2022-01-29T06:43:32.091365Z",
     "start_time": "2022-01-29T06:43:32.079160Z"
    }
   },
   "outputs": [
    {
     "data": {
      "text/plain": [
       "7"
      ]
     },
     "execution_count": 75,
     "metadata": {},
     "output_type": "execute_result"
    }
   ],
   "source": [
    "u._test__b"
   ]
  },
  {
   "cell_type": "code",
   "execution_count": 76,
   "id": "7cac3053",
   "metadata": {
    "ExecuteTime": {
     "end_time": "2022-01-29T06:43:33.027461Z",
     "start_time": "2022-01-29T06:43:33.018974Z"
    }
   },
   "outputs": [
    {
     "data": {
      "text/plain": [
       "5"
      ]
     },
     "execution_count": 76,
     "metadata": {},
     "output_type": "execute_result"
    }
   ],
   "source": [
    "v._test__b"
   ]
  },
  {
   "cell_type": "code",
   "execution_count": 78,
   "id": "f1384591",
   "metadata": {
    "ExecuteTime": {
     "end_time": "2022-01-29T06:52:43.471802Z",
     "start_time": "2022-01-29T06:52:43.453309Z"
    }
   },
   "outputs": [],
   "source": [
    "class bonuscalculator :\n",
    "    def __init__(self,empid,emprating):\n",
    "        self.empid = empid\n",
    "        self.emprating = emprating\n",
    "        self.__bonusfprratingA = '70%'\n",
    "        self.__bonusforratingB = '60%'\n",
    "        self.__bonusforratingC= '40%'\n",
    "    def bonuscalculator(self):\n",
    "        if self.emprating== 'A':\n",
    "            bonus = self.__bonusfprratingA\n",
    "            return bonus\n",
    "        elif self.emprating == 'B':\n",
    "            bonus = self.__bonusfprratingB\n",
    "            return bonus\n",
    "        else:\n",
    "            bonus = self.__bonusforratingC\n",
    "            return bonus"
   ]
  },
  {
   "cell_type": "code",
   "execution_count": 79,
   "id": "10a5de43",
   "metadata": {
    "ExecuteTime": {
     "end_time": "2022-01-29T06:53:53.009346Z",
     "start_time": "2022-01-29T06:53:53.000332Z"
    }
   },
   "outputs": [],
   "source": [
    "emp1 = bonuscalculator (101, 'A')\n",
    "emp2 = bonuscalculator(102,'B')"
   ]
  },
  {
   "cell_type": "code",
   "execution_count": 80,
   "id": "5193672c",
   "metadata": {
    "ExecuteTime": {
     "end_time": "2022-01-29T06:54:04.054638Z",
     "start_time": "2022-01-29T06:54:04.044152Z"
    }
   },
   "outputs": [
    {
     "data": {
      "text/plain": [
       "'70%'"
      ]
     },
     "execution_count": 80,
     "metadata": {},
     "output_type": "execute_result"
    }
   ],
   "source": [
    "emp1.bonuscalculator()"
   ]
  },
  {
   "cell_type": "code",
   "execution_count": 81,
   "id": "16c6d6df",
   "metadata": {
    "ExecuteTime": {
     "end_time": "2022-01-29T07:03:36.029835Z",
     "start_time": "2022-01-29T07:03:36.024848Z"
    }
   },
   "outputs": [],
   "source": [
    "emp1.__bonusforratingB = '100%'"
   ]
  },
  {
   "cell_type": "code",
   "execution_count": 82,
   "id": "e16a0dc5",
   "metadata": {
    "ExecuteTime": {
     "end_time": "2022-01-29T07:03:52.253383Z",
     "start_time": "2022-01-29T07:03:52.244822Z"
    }
   },
   "outputs": [
    {
     "data": {
      "text/plain": [
       "'70%'"
      ]
     },
     "execution_count": 82,
     "metadata": {},
     "output_type": "execute_result"
    }
   ],
   "source": [
    "emp1.bonuscalculator()"
   ]
  },
  {
   "cell_type": "code",
   "execution_count": 86,
   "id": "ca5b70cd",
   "metadata": {
    "ExecuteTime": {
     "end_time": "2022-01-29T07:05:38.293817Z",
     "start_time": "2022-01-29T07:05:38.283855Z"
    }
   },
   "outputs": [],
   "source": [
    "emp2._bonuscalculator__bonusforratingB = 'ert'"
   ]
  },
  {
   "cell_type": "code",
   "execution_count": 87,
   "id": "953d2e28",
   "metadata": {
    "ExecuteTime": {
     "end_time": "2022-01-29T07:05:47.058121Z",
     "start_time": "2022-01-29T07:05:47.040188Z"
    }
   },
   "outputs": [
    {
     "data": {
      "text/plain": [
       "'ert'"
      ]
     },
     "execution_count": 87,
     "metadata": {},
     "output_type": "execute_result"
    }
   ],
   "source": [
    "emp2._bonuscalculator__bonusforratingB"
   ]
  },
  {
   "cell_type": "code",
   "execution_count": 88,
   "id": "ad5513db",
   "metadata": {
    "ExecuteTime": {
     "end_time": "2022-01-29T07:06:04.005695Z",
     "start_time": "2022-01-29T07:06:03.981746Z"
    }
   },
   "outputs": [
    {
     "ename": "AttributeError",
     "evalue": "'bonuscalculator' object has no attribute '_bonuscalculator__bonusfprratingB'",
     "output_type": "error",
     "traceback": [
      "\u001b[1;31m---------------------------------------------------------------------------\u001b[0m",
      "\u001b[1;31mAttributeError\u001b[0m                            Traceback (most recent call last)",
      "\u001b[1;32m~\\AppData\\Local\\Temp/ipykernel_16076/1933583235.py\u001b[0m in \u001b[0;36m<module>\u001b[1;34m\u001b[0m\n\u001b[1;32m----> 1\u001b[1;33m \u001b[0memp2\u001b[0m\u001b[1;33m.\u001b[0m\u001b[0mbonuscalculator\u001b[0m\u001b[1;33m(\u001b[0m\u001b[1;33m)\u001b[0m\u001b[1;33m\u001b[0m\u001b[1;33m\u001b[0m\u001b[0m\n\u001b[0m",
      "\u001b[1;32m~\\AppData\\Local\\Temp/ipykernel_16076/237983047.py\u001b[0m in \u001b[0;36mbonuscalculator\u001b[1;34m(self)\u001b[0m\n\u001b[0;32m     11\u001b[0m             \u001b[1;32mreturn\u001b[0m \u001b[0mbonus\u001b[0m\u001b[1;33m\u001b[0m\u001b[1;33m\u001b[0m\u001b[0m\n\u001b[0;32m     12\u001b[0m         \u001b[1;32melif\u001b[0m \u001b[0mself\u001b[0m\u001b[1;33m.\u001b[0m\u001b[0memprating\u001b[0m \u001b[1;33m==\u001b[0m \u001b[1;34m'B'\u001b[0m\u001b[1;33m:\u001b[0m\u001b[1;33m\u001b[0m\u001b[1;33m\u001b[0m\u001b[0m\n\u001b[1;32m---> 13\u001b[1;33m             \u001b[0mbonus\u001b[0m \u001b[1;33m=\u001b[0m \u001b[0mself\u001b[0m\u001b[1;33m.\u001b[0m\u001b[0m__bonusfprratingB\u001b[0m\u001b[1;33m\u001b[0m\u001b[1;33m\u001b[0m\u001b[0m\n\u001b[0m\u001b[0;32m     14\u001b[0m             \u001b[1;32mreturn\u001b[0m \u001b[0mbonus\u001b[0m\u001b[1;33m\u001b[0m\u001b[1;33m\u001b[0m\u001b[0m\n\u001b[0;32m     15\u001b[0m         \u001b[1;32melse\u001b[0m\u001b[1;33m:\u001b[0m\u001b[1;33m\u001b[0m\u001b[1;33m\u001b[0m\u001b[0m\n",
      "\u001b[1;31mAttributeError\u001b[0m: 'bonuscalculator' object has no attribute '_bonuscalculator__bonusfprratingB'"
     ]
    }
   ],
   "source": [
    "emp2.bonuscalculator()"
   ]
  },
  {
   "cell_type": "code",
   "execution_count": null,
   "id": "35d67162",
   "metadata": {},
   "outputs": [],
   "source": []
  }
 ],
 "metadata": {
  "kernelspec": {
   "display_name": "Python 3 (ipykernel)",
   "language": "python",
   "name": "python3"
  },
  "language_info": {
   "codemirror_mode": {
    "name": "ipython",
    "version": 3
   },
   "file_extension": ".py",
   "mimetype": "text/x-python",
   "name": "python",
   "nbconvert_exporter": "python",
   "pygments_lexer": "ipython3",
   "version": "3.9.7"
  }
 },
 "nbformat": 4,
 "nbformat_minor": 5
}
