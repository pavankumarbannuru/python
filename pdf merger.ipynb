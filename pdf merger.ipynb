{
 "cells": [
  {
   "cell_type": "code",
   "execution_count": 1,
   "id": "6ef3a76b",
   "metadata": {
    "ExecuteTime": {
     "end_time": "2022-03-03T13:22:54.712744Z",
     "start_time": "2022-03-03T13:22:54.683715Z"
    }
   },
   "outputs": [],
   "source": [
    "import sys"
   ]
  },
  {
   "cell_type": "code",
   "execution_count": 2,
   "id": "d27784f6",
   "metadata": {
    "ExecuteTime": {
     "end_time": "2022-03-03T13:22:54.959746Z",
     "start_time": "2022-03-03T13:22:54.920283Z"
    }
   },
   "outputs": [],
   "source": [
    "import PyPDF2"
   ]
  },
  {
   "cell_type": "code",
   "execution_count": 13,
   "id": "da0b1944",
   "metadata": {
    "ExecuteTime": {
     "end_time": "2022-03-02T14:10:45.978323Z",
     "start_time": "2022-03-02T14:10:45.956134Z"
    }
   },
   "outputs": [],
   "source": [
    "pdf1File = open('pdf1.pdf', 'rb')\n",
    "pdf2File = open('pdf2.pdf', 'rb')\n",
    " \n",
    "# Read the files that you have opened\n",
    "pdf1Reader = PyPDF2.PdfFileReader(pdf1File)\n",
    "pdf2Reader = PyPDF2.PdfFileReader(pdf2File)\n",
    " \n",
    "# Create a new PdfFileWriter object which represents a blank PDF document\n",
    "pdfWriter = PyPDF2.PdfFileWriter()\n",
    " \n",
    "# Loop through all the pagenumbers for the first document\n",
    "for pageNum in range(pdf1Reader.numPages):\n",
    "    pageObj = pdf1Reader.getPage(pageNum)\n",
    "    pdfWriter.addPage(pageObj)\n",
    " \n",
    "# Loop through all the pagenumbers for the second document\n",
    "for pageNum in range(pdf2Reader.numPages):\n",
    "    pageObj = pdf2Reader.getPage(pageNum)\n",
    "    pdfWriter.addPage(pageObj)\n",
    " \n",
    "# Now that you have copied all the pages in both the documents, write them into the a new document\n",
    "pdfOutputFile = open('MergedFiles.pdf', 'wb')\n",
    "pdfWriter.write(pdfOutputFile)\n",
    " \n",
    "# Close all the files - Created as well as opened\n",
    "pdfOutputFile.close()\n",
    "pdf1File.close()\n",
    "pdf2File.close()"
   ]
  },
  {
   "cell_type": "code",
   "execution_count": 3,
   "id": "a42be3ec",
   "metadata": {
    "ExecuteTime": {
     "end_time": "2022-03-03T13:22:58.381470Z",
     "start_time": "2022-03-03T13:22:58.308922Z"
    }
   },
   "outputs": [],
   "source": [
    "from distutils.log import ERROR, INFO\n",
    "from tkinter import *\n",
    "import os\n",
    "from tkinter import messagebox\n",
    "import PyPDF2\n",
    "import logging"
   ]
  },
  {
   "cell_type": "code",
   "execution_count": 4,
   "id": "9e40f6d6",
   "metadata": {
    "ExecuteTime": {
     "end_time": "2022-03-03T13:23:00.998863Z",
     "start_time": "2022-03-03T13:23:00.856686Z"
    }
   },
   "outputs": [],
   "source": [
    "\n",
    "logging.basicConfig(filename='main_log.log',\n",
    "                    filemode='a',\n",
    "                    level= INFO,\n",
    "                    format='%(asctime)s %(levelname)s-%(message)s',\n",
    "                    datefmt='%Y-%m-%d %H:%M:%S'\n",
    "                    )\n",
    "\n",
    "logger = logging.getLogger()\n",
    "logger.setLevel(logging.DEBUG)\n",
    "\n",
    "root = Tk()                     # root(base) window\n",
    "root.title(\"PDF Merger\")        # root window Title\n",
    "root.geometry(\"1280x800\")       # window resolution\n",
    "\n",
    "## myClick Button - Search the current directory\n",
    "def myClick():\n",
    "    logger.info('User clicked on search')\n",
    "    searchString = search01.get()\n",
    "    logger.info('Search path: ' + str(searchString))\n",
    "\n",
    "    resultArea.configure(state='normal')\n",
    "    resultArea.delete('1.0', END)\n",
    "    try:\n",
    "        os.chdir(searchString)      # Changing cwd to searched directory\n",
    "    except Exception as e:\n",
    "        logger.error(str(e) + ' - Invalid Directory Path !')\n",
    "        messagebox.showerror(\"Directory Error!\", \"No such Directory Exists\")\n",
    "    else:\n",
    "        files = os.listdir()\n",
    "        #resultArea.configure(state='normal')\n",
    "        pdfCount = 0\n",
    "        for file in files:\n",
    "            resultArea.insert(END, file + '\\n')\n",
    "            file_details = os.path.splitext(file)   ## Spliting the file into filename and extension\n",
    "            if file_details[1] == '.pdf':\n",
    "                pdfCount += 1\n",
    "\n",
    "        resultArea.insert(END, '\\n\\n' + 'Total PDFs Found: ' + str(pdfCount) + '\\n')\n",
    "        resultArea.configure(state='disable')\n",
    "        logger.info('Total PDF(s): '+str(pdfCount))\n",
    "        logger.info('Directory information is displayed onto Text Area')"
   ]
  },
  {
   "cell_type": "code",
   "execution_count": null,
   "id": "9246cf6f",
   "metadata": {},
   "outputs": [],
   "source": []
  },
  {
   "cell_type": "code",
   "execution_count": null,
   "id": "3214f8d5",
   "metadata": {
    "ExecuteTime": {
     "start_time": "2022-03-03T13:21:49.335Z"
    }
   },
   "outputs": [],
   "source": [
    "\n",
    "## mergePDF Button - Function to merge all the PDF files\n",
    "def mergePDF():\n",
    "    logger.info('User clicked on Merge PDF')\n",
    "    searchString = search01.get()\n",
    "    logger.info('Beginning the merging process: ' + str(searchString))\n",
    "\n",
    "    try:\n",
    "        os.chdir(searchString)\n",
    "    except Exception as e:\n",
    "        logger.error(str(e) + ' - Invalid Directory Path !')\n",
    "    else:\n",
    "        files = os.listdir()               ## Contains all the file name \n",
    "        mergeFile = PyPDF2.PdfFileMerger()\n",
    "        flag = False\n",
    "        for file in files:\n",
    "            file_details = os.path.splitext(file)                           # Spliting the file into filename and extension\n",
    "            # if file is .pdf merging them\n",
    "            if file_details[1] == '.pdf':\n",
    "                flag = True\n",
    "                mergeFile.append(PyPDF2.PdfFileReader(file, 'rb'))          # Append the pdf into a mergeFile object     \n",
    "        if flag == True:\n",
    "            mergeFile.write(\"Merged-PDF.pdf\")\n",
    "            messagebox.showinfo(\"Merge Completed!\", \"PDF name: Merged-PDF\") # Pop up on success merge   \n",
    "            logger.info('Merge Completed')\n",
    "            logger.info('Merged PDF File Name: Merged-PDF') \n",
    "        else:\n",
    "            messagebox.showerror(\"Merge Error!\", \"NO! PDF File(s) to Merge\")\n",
    "            logger.error('Merge Error!, No PDF to Merge')\n",
    "\n",
    "try:\n",
    "    ## Creating row 0\n",
    "    label00 = Label(root, text=\"Search Directory: \", padx=3)\n",
    "    label00.grid(row=0, column=0, padx=15)\n",
    "\n",
    "    search01 = Entry(root, width=170, borderwidth=2)\n",
    "    search01.grid(row=0, column=1, pady=25)\n",
    "\n",
    "    myButton02 = Button(root, text='Search', padx=10, pady=7, command=myClick)\n",
    "    myButton02.grid(row=0, column=2)\n",
    "\n",
    "    ## Creating row1,2 - label, result TextArea\n",
    "    label10 = Label(root, text=\"Directory Conatins: \")\n",
    "    label10.grid(row=1, column=1, padx=15)\n",
    "\n",
    "    resultArea = Text(root, width=130, height=30)\n",
    "    resultArea.grid(row=2, column=1)\n",
    "    resultArea.configure(state='disable')\n",
    "\n",
    "    ## Creating row 3 - Merge PDF functionality\n",
    "    myButton3 = Button(root, text='Merge PDFs', command=mergePDF)\n",
    "    myButton3.grid(row=3, column=1, pady=10)\n",
    "\n",
    "    logger.info('Main window created successfully!')\n",
    "\n",
    "except Exception as e:\n",
    "    logger.error(str(e) +  ' - Error while creating main window')\n",
    "\n",
    "root.mainloop()"
   ]
  },
  {
   "cell_type": "code",
   "execution_count": null,
   "id": "8eb256e2",
   "metadata": {},
   "outputs": [],
   "source": []
  }
 ],
 "metadata": {
  "kernelspec": {
   "display_name": "Python 3 (ipykernel)",
   "language": "python",
   "name": "python3"
  },
  "language_info": {
   "codemirror_mode": {
    "name": "ipython",
    "version": 3
   },
   "file_extension": ".py",
   "mimetype": "text/x-python",
   "name": "python",
   "nbconvert_exporter": "python",
   "pygments_lexer": "ipython3",
   "version": "3.9.7"
  }
 },
 "nbformat": 4,
 "nbformat_minor": 5
}
