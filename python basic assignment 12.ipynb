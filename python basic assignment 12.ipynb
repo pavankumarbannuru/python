{
 "cells": [
  {
   "cell_type": "markdown",
   "id": "351c4cbe",
   "metadata": {},
   "source": [
    "1. In what modes should the PdfFileReader() and PdfFileWriter() File objects will be opened?\n",
    "2. From a PdfFileReader object, how do you get a Page object for page 5?\n",
    "3. What PdfFileReader variable stores the number of pages in the PDF document?\n",
    "4. If a PdfFileReader object’s PDF is encrypted with the password swordfish, what must you do\n",
    "before you can obtain Page objects from it?\n",
    "5. What methods do you use to rotate a page?\n",
    "6. What is the difference between a Run object and a Paragraph object?\n",
    "7. How do you obtain a list of Paragraph objects for a Document object that’s stored in a variable\n",
    "named doc?\n",
    "8. What type of object has bold, underline, italic, strike, and outline variables?\n",
    "9. What is the difference between False, True, and None for the bold variable?\n",
    "10. How do you create a Document object for a new Word document?\n",
    "11. How do you add a paragraph with the text &#39;Hello, there!&#39; to a Document object stored in a\n",
    "variable named doc?\n",
    "12. What integers represent the levels of headings available in Word documents?"
   ]
  },
  {
   "cell_type": "code",
   "execution_count": null,
   "id": "845999e7",
   "metadata": {},
   "outputs": [],
   "source": []
  }
 ],
 "metadata": {
  "kernelspec": {
   "display_name": "Python 3 (ipykernel)",
   "language": "python",
   "name": "python3"
  },
  "language_info": {
   "codemirror_mode": {
    "name": "ipython",
    "version": 3
   },
   "file_extension": ".py",
   "mimetype": "text/x-python",
   "name": "python",
   "nbconvert_exporter": "python",
   "pygments_lexer": "ipython3",
   "version": "3.9.7"
  }
 },
 "nbformat": 4,
 "nbformat_minor": 5
}
