{
 "cells": [
  {
   "cell_type": "code",
   "execution_count": 12,
   "id": "5afea16e",
   "metadata": {
    "ExecuteTime": {
     "end_time": "2022-06-08T10:13:03.410817Z",
     "start_time": "2022-06-08T10:13:03.403801Z"
    }
   },
   "outputs": [],
   "source": [
    "with open('example.txt', \"w\") as f:\n",
    "    f.write(\"This is a placement assignment\")\n",
    "    f.close()\n",
    "def read_replace(file):\n",
    "    file = open(file, 'r')\n",
    "    file = file.read()\n",
    "    file = file.replace('placement', 'screening')\n",
    "    print(file)\n",
    "    "
   ]
  },
  {
   "cell_type": "code",
   "execution_count": 14,
   "id": "ea3b415c",
   "metadata": {
    "ExecuteTime": {
     "end_time": "2022-06-08T10:13:40.286293Z",
     "start_time": "2022-06-08T10:13:40.271075Z"
    }
   },
   "outputs": [
    {
     "name": "stdout",
     "output_type": "stream",
     "text": [
      "This is a screening assignment\n"
     ]
    }
   ],
   "source": [
    "read_replace('example.txt')"
   ]
  },
  {
   "cell_type": "markdown",
   "id": "54038b1b",
   "metadata": {},
   "source": [
    "# multiple inheritence: When a class is derived from more than one base class it is called multiple Inheritance. The derived class inherits all the features of the base case."
   ]
  },
  {
   "cell_type": "code",
   "execution_count": 4,
   "id": "3c5844ee",
   "metadata": {
    "ExecuteTime": {
     "end_time": "2022-06-08T09:45:42.300874Z",
     "start_time": "2022-06-08T09:45:42.294923Z"
    }
   },
   "outputs": [],
   "source": [
    "class xyz:\n",
    "    def __init__(self,a,b,c):      # for getting all variables in child one\n",
    "        self.a=a\n",
    "        self.b=b\n",
    "        self.c=c\n",
    "        \n",
    "    def test1(self):\n",
    "        print('this is a test1 function')\n",
    "class xyz1:\n",
    "    def __init__(self,a1,b1,c1):\n",
    "        self.a1=a1\n",
    "        self.b1=b1\n",
    "        self.c1=c1\n",
    "    def test1(self):\n",
    "        print('this is xyz1')\n",
    "        \n",
    "class child1(xyz,xyz1):\n",
    "    def __init__(self, *args, **kwargs):\n",
    "        xyz.__init__(self,*args)\n",
    "        xyz1.__init__(self,**kwargs)"
   ]
  },
  {
   "cell_type": "code",
   "execution_count": 8,
   "id": "c3672a4f",
   "metadata": {
    "ExecuteTime": {
     "end_time": "2022-06-08T09:46:44.602305Z",
     "start_time": "2022-06-08T09:46:44.594782Z"
    }
   },
   "outputs": [],
   "source": [
    "n=child1(1,2,3,a1=12,b1=25,c1=856)"
   ]
  },
  {
   "cell_type": "markdown",
   "id": "04800f90",
   "metadata": {},
   "source": [
    "# Decorators:Decorators are used to change a function's or a class's behaviour. Functions are passed as arguments to another function in Decorators and then called from within the wrapper function."
   ]
  },
  {
   "cell_type": "code",
   "execution_count": 9,
   "id": "3ebc737a",
   "metadata": {
    "ExecuteTime": {
     "end_time": "2022-06-08T09:49:50.899036Z",
     "start_time": "2022-06-08T09:49:50.880420Z"
    }
   },
   "outputs": [],
   "source": [
    "class xyz:\n",
    "    class_varaiable= 2567         \n",
    "    def __init__(self,a,b,c):     \n",
    "        self.a= a\n",
    "        self.b= b\n",
    "        self.c= c\n",
    "    @staticmethod\n",
    "    def test():\n",
    "        print('static method test')\n",
    "u= xyz(1,2,3)"
   ]
  },
  {
   "cell_type": "code",
   "execution_count": 10,
   "id": "ec0d9f0a",
   "metadata": {
    "ExecuteTime": {
     "end_time": "2022-06-08T09:50:39.572071Z",
     "start_time": "2022-06-08T09:50:39.562094Z"
    },
    "scrolled": true
   },
   "outputs": [
    {
     "name": "stdout",
     "output_type": "stream",
     "text": [
      "static method test\n"
     ]
    }
   ],
   "source": [
    "u.test()"
   ]
  },
  {
   "cell_type": "markdown",
   "id": "792cf3d6",
   "metadata": {},
   "source": [
    "# abstraction: A class is called an Abstract class if it contains one or more abstract methods. An abstract method is a method that is declared, but contains no implementation. Abstract classes may not be instantiated, and its abstract methods must be implemented by its subclasses"
   ]
  },
  {
   "cell_type": "code",
   "execution_count": 4,
   "id": "d5cb7f8d",
   "metadata": {
    "ExecuteTime": {
     "end_time": "2022-06-22T17:02:38.195809Z",
     "start_time": "2022-06-22T17:02:38.178815Z"
    }
   },
   "outputs": [],
   "source": [
    "from abc import *\n",
    "class powerplant(ABC):\n",
    "    def powerplant_main(self):\n",
    "        pass\n",
    "    \n",
    "class coal(powerplant):\n",
    "    def coalpp(self):\n",
    "        print(\"This is coal power plant\")\n",
    "        \n",
    "class gas(powerplant):\n",
    "    def gapp(self):\n",
    "        print(\"This is gas power plant\")\n",
    "        \n",
    "class wind(powerplant):\n",
    "    def windpp(self):\n",
    "        print(\"This is wind power plant\")\n",
    "        \n",
    "class hydro(powerplant):\n",
    "    def hydropp(self):\n",
    "        print(\"This is hydro power plant\")"
   ]
  },
  {
   "cell_type": "code",
   "execution_count": 29,
   "id": "3e2b2d00",
   "metadata": {
    "ExecuteTime": {
     "end_time": "2022-06-08T10:39:01.209865Z",
     "start_time": "2022-06-08T10:39:01.192960Z"
    }
   },
   "outputs": [],
   "source": [
    "jindal_thernal=coal()\n",
    "jindal_gas=gas()\n",
    "jindal_wind=wind()\n",
    "jindal_hydro=hydro()"
   ]
  },
  {
   "cell_type": "code",
   "execution_count": 30,
   "id": "e6f2af6c",
   "metadata": {
    "ExecuteTime": {
     "end_time": "2022-06-08T10:39:01.661336Z",
     "start_time": "2022-06-08T10:39:01.644957Z"
    }
   },
   "outputs": [
    {
     "name": "stdout",
     "output_type": "stream",
     "text": [
      "This is coal power plant\n"
     ]
    }
   ],
   "source": [
    "jindal_thernal.coalpp()"
   ]
  },
  {
   "cell_type": "code",
   "execution_count": 31,
   "id": "0010c81e",
   "metadata": {
    "ExecuteTime": {
     "end_time": "2022-06-08T10:39:02.116270Z",
     "start_time": "2022-06-08T10:39:02.112315Z"
    }
   },
   "outputs": [
    {
     "name": "stdout",
     "output_type": "stream",
     "text": [
      "This is gas power plant\n"
     ]
    }
   ],
   "source": [
    "jindal_gas.gapp()"
   ]
  },
  {
   "cell_type": "code",
   "execution_count": null,
   "id": "84e68072",
   "metadata": {},
   "outputs": [],
   "source": []
  }
 ],
 "metadata": {
  "kernelspec": {
   "display_name": "Python 3 (ipykernel)",
   "language": "python",
   "name": "python3"
  },
  "language_info": {
   "codemirror_mode": {
    "name": "ipython",
    "version": 3
   },
   "file_extension": ".py",
   "mimetype": "text/x-python",
   "name": "python",
   "nbconvert_exporter": "python",
   "pygments_lexer": "ipython3",
   "version": "3.9.7"
  }
 },
 "nbformat": 4,
 "nbformat_minor": 5
}
